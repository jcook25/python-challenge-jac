{
 "cells": [
  {
   "cell_type": "code",
   "execution_count": 1,
   "metadata": {},
   "outputs": [
    {
     "name": "stdout",
     "output_type": "stream",
     "text": [
      "Election Results\n",
      "-------------------------\n",
      "Total Votes: 3521001\n",
      "-------------------------\n",
      "Khan: 63.000% (2218231)\n",
      "Correy: 20.000% (704200)\n",
      "Li: 14.000% (492940)\n",
      "O'Tooley: 3.000% (105630)\n",
      "-------------------------\n",
      "Winner: Khan\n",
      "-------------------------\n"
     ]
    }
   ],
   "source": [
    "import os\n",
    "import csv\n",
    "\n",
    "csvpath = (\"election_data.csv\")\n",
    "\n",
    "total_votes = 0\n",
    "candidate = \"\"\n",
    "candidate_list = []\n",
    "vote_list = []\n",
    "percent_list = []\n",
    "winner = \"\"\n",
    "\n",
    "with open (csvpath, newline = \"\") as csvfile:\n",
    "    \n",
    "    csvreader = csv.reader(csvfile, delimiter = \",\")\n",
    "    csv_header = next(csvreader)\n",
    "    \n",
    "    for row in csvreader:\n",
    "    \n",
    "        total_votes += 1\n",
    "        \n",
    "        if row[2] not in candidate_list:\n",
    "            candidate_list.append(row[2])\n",
    "            vote_list.append(1)\n",
    "        else: vote_list[candidate_list.index(row[2])] += 1\n",
    "\n",
    "            \n",
    "percent_list = [(100/total_votes) * x for x in vote_list]\n",
    "\n",
    "\n",
    "winner = candidate_list[vote_list.index(max(vote_list))]\n",
    "     \n",
    "print(\"Election Results\")\n",
    "print(\"-------------------------\")\n",
    "print(\"Total Votes: \" + str(total_votes))\n",
    "print(\"-------------------------\")\n",
    "\n",
    "for x in candidate_list:\n",
    "    print(x + \": \" + str(format(percent_list[candidate_list.index(x)], '.3f')) \n",
    "        + \"% (\" + str(vote_list[candidate_list.index(x)]) + \")\")\n",
    "    \n",
    "print(\"-------------------------\")\n",
    "print(\"Winner: \" + winner)\n",
    "print(\"-------------------------\")"
   ]
  },
  {
   "cell_type": "code",
   "execution_count": null,
   "metadata": {},
   "outputs": [],
   "source": []
  }
 ],
 "metadata": {
  "kernelspec": {
   "display_name": "Python 3",
   "language": "python",
   "name": "python3"
  },
  "language_info": {
   "codemirror_mode": {
    "name": "ipython",
    "version": 3
   },
   "file_extension": ".py",
   "mimetype": "text/x-python",
   "name": "python",
   "nbconvert_exporter": "python",
   "pygments_lexer": "ipython3",
   "version": "3.7.4"
  }
 },
 "nbformat": 4,
 "nbformat_minor": 4
}
