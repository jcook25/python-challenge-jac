{
 "cells": [
  {
   "cell_type": "code",
   "execution_count": 1,
   "metadata": {},
   "outputs": [
    {
     "ename": "NameError",
     "evalue": "name 'wrestling_csv' is not defined",
     "output_type": "error",
     "traceback": [
      "\u001b[1;31m---------------------------------------------------------------------------\u001b[0m",
      "\u001b[1;31mNameError\u001b[0m                                 Traceback (most recent call last)",
      "\u001b[1;32m<ipython-input-1-1aa5f7d516d1>\u001b[0m in \u001b[0;36m<module>\u001b[1;34m\u001b[0m\n\u001b[0;32m     47\u001b[0m \u001b[1;33m\u001b[0m\u001b[0m\n\u001b[0;32m     48\u001b[0m \u001b[1;31m# Read in the CSV file\u001b[0m\u001b[1;33m\u001b[0m\u001b[1;33m\u001b[0m\u001b[1;33m\u001b[0m\u001b[0m\n\u001b[1;32m---> 49\u001b[1;33m \u001b[1;32mwith\u001b[0m \u001b[0mopen\u001b[0m\u001b[1;33m(\u001b[0m\u001b[0mwrestling_csv\u001b[0m\u001b[1;33m,\u001b[0m \u001b[1;34m'r'\u001b[0m\u001b[1;33m)\u001b[0m \u001b[1;32mas\u001b[0m \u001b[0mcsvfile\u001b[0m\u001b[1;33m:\u001b[0m\u001b[1;33m\u001b[0m\u001b[1;33m\u001b[0m\u001b[0m\n\u001b[0m\u001b[0;32m     50\u001b[0m \u001b[1;33m\u001b[0m\u001b[0m\n\u001b[0;32m     51\u001b[0m     \u001b[1;31m# Split the data on commas\u001b[0m\u001b[1;33m\u001b[0m\u001b[1;33m\u001b[0m\u001b[1;33m\u001b[0m\u001b[0m\n",
      "\u001b[1;31mNameError\u001b[0m: name 'wrestling_csv' is not defined"
     ]
    }
   ],
   "source": [
    "import os\n",
    "import csv\n",
    "\n",
    "# Path to collect data from the Resources folder\n",
    "bank_csv = os.path.join('budget_data.csv')\n",
    "\n",
    "# Define the function and have it accept the 'budget_data' as its sole parameter\n",
    "def print_percentages(budget_data):\n",
    "    \n",
    "    # For readability, it can help to assign your values to variables with descriptive names\n",
    "    date = str(budget_data[0])\n",
    "    p_l = int(budget_data[1])\n",
    "    \n",
    "    \n",
    "    \n",
    "    \n",
    "    name = str(wrestler_data[0])\n",
    "    wins = int(wrestler_data[1])\n",
    "    losses = int(wrestler_data[2])\n",
    "    draws = int(wrestler_data[3])\n",
    "\n",
    "    # Total matches can be found by adding wins, losses, and draws together\n",
    "    total_matches = wins + losses + draws\n",
    "\n",
    "    # Win percent can be found by dividing the the total wins by the total matches and multiplying by 100\n",
    "    win_percent = (wins / total_matches) * 100\n",
    "\n",
    "    # Loss percent can be found by dividing the total losses by the total matches and multiplying by 100\n",
    "    loss_percent = (losses / total_matches) * 100\n",
    "\n",
    "    # Draw percent can be found by dividing the total draws by the total matches and multiplying by 100\n",
    "    draw_percent = (draws / total_matches) * 100\n",
    "\n",
    "    # If the loss percentage is over 50, type_of_wrestler is \"Jobber\". Otherwise it is \"Superstar\".\n",
    "    if loss_percent > 50:\n",
    "        type_of_wrestler = \"Jobber\"\n",
    "    else:\n",
    "        type_of_wrestler = \"Superstar\"\n",
    "\n",
    "    # Print out the wrestler's name and their percentage stats\n",
    "    print(f\"Stats for {name}\")\n",
    "    print(f\"WIN PERCENT: {str(win_percent)}\")\n",
    "    print(f\"LOSS PERCENT: {str(loss_percent)}\")\n",
    "    print(f\"DRAW PERCENT: {str(draw_percent)}\")\n",
    "    print(f\"{name} is a {type_of_wrestler}\")\n",
    "\n",
    "\n",
    "# Read in the CSV file\n",
    "with open(wrestling_csv, 'r') as csvfile:\n",
    "\n",
    "    # Split the data on commas\n",
    "    csvreader = csv.reader(csvfile, delimiter=',')\n",
    "\n",
    "    header = next(csvreader)\n",
    "\n",
    "    # Prompt the user for what wrestler they would like to search for\n",
    "    name_to_check = input(\"What wrestler do you want to look for? \")\n",
    "\n",
    "    # Loop through the data\n",
    "    for row in csvreader:\n",
    "\n",
    "        # If the wrestler's name in a row is equal to that which the user input, run the 'print_percentages()' function\n",
    "        if name_to_check == row[0]:\n",
    "            print_percentages(row)\n"
   ]
  },
  {
   "cell_type": "code",
   "execution_count": 4,
   "metadata": {},
   "outputs": [
    {
     "data": {
      "text/plain": [
       "<function __main__.print_percentages(budget_data)>"
      ]
     },
     "execution_count": 4,
     "metadata": {},
     "output_type": "execute_result"
    }
   ],
   "source": [
    "import os\n",
    "import csv\n",
    "\n",
    "# Path to collect data from the Resources folder\n",
    "bank_csv = os.path.join('budget_data.csv')\n",
    "\n",
    "# Define the function and have it accept the 'budget_data' as its sole parameter\n",
    "def print_percentages(csv):\n",
    "    \n",
    "    # For readability, it can help to assign your values to variables with descriptive names\n",
    "    date = str(budget_data[0])\n",
    "    pl = int(budget_data[1])\n",
    "    total = pl\n",
    "    \n",
    "    with open(budget_data, 'r') as csvfile:\n",
    "\n",
    "    # Split the data on commas\n",
    "        csvreader = csv.reader(csvfile, delimiter=',', encoding='latin_1')\n",
    "\n",
    "    header = next(csvreader)\n",
    "print_percentages"
   ]
  },
  {
   "cell_type": "code",
   "execution_count": 3,
   "metadata": {},
   "outputs": [
    {
     "ename": "NameError",
     "evalue": "name 'pl' is not defined",
     "output_type": "error",
     "traceback": [
      "\u001b[1;31m---------------------------------------------------------------------------\u001b[0m",
      "\u001b[1;31mNameError\u001b[0m                                 Traceback (most recent call last)",
      "\u001b[1;32m<ipython-input-3-31945d531d97>\u001b[0m in \u001b[0;36m<module>\u001b[1;34m\u001b[0m\n\u001b[1;32m----> 1\u001b[1;33m \u001b[0mprint\u001b[0m\u001b[1;33m(\u001b[0m\u001b[0mint\u001b[0m\u001b[1;33m(\u001b[0m\u001b[0mpl\u001b[0m\u001b[1;33m)\u001b[0m\u001b[1;33m)\u001b[0m\u001b[1;33m\u001b[0m\u001b[1;33m\u001b[0m\u001b[0m\n\u001b[0m",
      "\u001b[1;31mNameError\u001b[0m: name 'pl' is not defined"
     ]
    }
   ],
   "source": [
    "print(int(pl))"
   ]
  },
  {
   "cell_type": "code",
   "execution_count": null,
   "metadata": {},
   "outputs": [],
   "source": []
  }
 ],
 "metadata": {
  "kernelspec": {
   "display_name": "Python 3",
   "language": "python",
   "name": "python3"
  },
  "language_info": {
   "codemirror_mode": {
    "name": "ipython",
    "version": 3
   },
   "file_extension": ".py",
   "mimetype": "text/x-python",
   "name": "python",
   "nbconvert_exporter": "python",
   "pygments_lexer": "ipython3",
   "version": "3.7.4"
  }
 },
 "nbformat": 4,
 "nbformat_minor": 4
}
